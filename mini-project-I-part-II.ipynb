{
 "cells": [
  {
   "cell_type": "markdown",
   "metadata": {},
   "source": [
    "## Movies\n",
    "In this part of mini-project, we need to have our API-KEY ready because this API won't work without it.\n",
    "\n",
    "We encourage you to look for correct endpoints in [the documentation](https://developers.themoviedb.org/3/account). We can also play around with requests there before copying them to Python."
   ]
  },
  {
   "cell_type": "code",
   "execution_count": 1,
   "metadata": {},
   "outputs": [],
   "source": [
    "import requests\n",
    "import os\n",
    "import json\n",
    "from IPython.display import JSON"
   ]
  },
  {
   "cell_type": "markdown",
   "metadata": {},
   "source": [
    "## Demo"
   ]
  },
  {
   "cell_type": "code",
   "execution_count": null,
   "metadata": {},
   "outputs": [],
   "source": []
  },
  {
   "cell_type": "code",
   "execution_count": 5,
   "metadata": {},
   "outputs": [],
   "source": [
    "base = \"https://api.themoviedb.org/3\"\n",
    "url = \"/search/movie\"\n",
    "\n",
    "query = 'titanic'\n",
    "api_key = 'd93b150febdc89afef80d7f05fb4e79e'\n",
    "params = f'?query={query}&api_key={api_key}' \n"
   ]
  },
  {
   "cell_type": "code",
   "execution_count": 3,
   "metadata": {},
   "outputs": [],
   "source": [
    "res = requests.get(base+url+params)"
   ]
  },
  {
   "cell_type": "code",
   "execution_count": 4,
   "metadata": {},
   "outputs": [
    {
     "output_type": "execute_result",
     "data": {
      "text/plain": "200"
     },
     "metadata": {},
     "execution_count": 4
    }
   ],
   "source": [
    "res.status_code"
   ]
  },
  {
   "cell_type": "code",
   "execution_count": null,
   "metadata": {},
   "outputs": [],
   "source": []
  },
  {
   "cell_type": "code",
   "execution_count": 13,
   "metadata": {},
   "outputs": [
    {
     "output_type": "execute_result",
     "data": {
      "text/plain": "<IPython.core.display.JSON object>",
      "application/json": {
       "page": 1,
       "total_results": 10,
       "total_pages": 1,
       "results": [
        {
         "popularity": 21.874,
         "id": 770,
         "video": false,
         "vote_count": 2646,
         "vote_average": 8,
         "title": "Gone with the Wind",
         "release_date": "1939-12-15",
         "original_language": "en",
         "original_title": "Gone with the Wind",
         "genre_ids": [
          18,
          10752,
          10749
         ],
         "backdrop_path": "/ft8WRF2xqEwwGWa59naDUybKTAx.jpg",
         "adult": false,
         "overview": "The spoiled daughter of a well-to-do plantation owner is forced to use every means at her disposal to claw her way out of poverty, following Maj. Gen. William Sherman's destructive \"March to the Sea,” during the American Civil War.",
         "poster_path": "/pDXbS9V8ZoF7oiL4LUL5U31T1B5.jpg"
        },
        {
         "popularity": 5.414,
         "vote_count": 1,
         "video": false,
         "poster_path": "/q9CLy7v5Y9aZgMdJIMYd0imqzBA.jpg",
         "id": 223195,
         "adult": false,
         "backdrop_path": null,
         "original_language": "en",
         "original_title": "The Making of a Legend: Gone with the Wind",
         "genre_ids": [
          99
         ],
         "title": "The Making of a Legend: Gone with the Wind",
         "vote_average": 8,
         "overview": "This documentary revisits the making of Gone with the Wind via archival footage, screen tests, insightful interviews and rare film footage.",
         "release_date": "1988-10-01"
        },
        {
         "popularity": 1.179,
         "id": 400110,
         "video": false,
         "vote_count": 1,
         "vote_average": 10,
         "title": "Lynyrd Skynyrd - Gone With The Wind",
         "release_date": "2015-10-16",
         "original_language": "en",
         "original_title": "Lynyrd Skynyrd - Gone With The Wind",
         "genre_ids": [
          99,
          10402
         ],
         "backdrop_path": "/ss5Jr3EMNr6Ki6Ea53WwGC3P65z.jpg",
         "adult": false,
         "overview": "This music documentary tracks the meteoric rise of classic rockers Lynyrd Skynyrd as well as the bands' tragic downfall.",
         "poster_path": "/vGoK8B5jnMPBkXIy5OEWXQz8g9Q.jpg"
        },
        {
         "popularity": 0.6,
         "vote_count": 0,
         "video": false,
         "poster_path": "/jgsyIrtuqrdlkRuTvSQjU8fb0tr.jpg",
         "id": 733948,
         "adult": false,
         "backdrop_path": null,
         "original_language": "ku",
         "original_title": "Life Gone With The Wind",
         "genre_ids": [],
         "title": "Life Gone With The Wind",
         "vote_average": 0,
         "overview": "An elderly woman reminisces back to her childhood and her unfulfilled dreams when she discovers a kite in her garden.",
         "release_date": "2019-07-18"
        },
        {
         "popularity": 0.6,
         "vote_count": 0,
         "video": false,
         "poster_path": null,
         "id": 700746,
         "adult": false,
         "backdrop_path": null,
         "original_language": "en",
         "original_title": "Gone With the Wind Fabulous",
         "genre_ids": [],
         "title": "Gone With the Wind Fabulous",
         "vote_average": 0,
         "overview": "After confrontation with a vicious hater, housewife Kenya Moore uses her sophistication to outclass any who dares question her fabulosity.",
         "release_date": "2013-03-11"
        },
        {
         "popularity": 1.616,
         "id": 459927,
         "video": false,
         "vote_count": 0,
         "vote_average": 0,
         "title": "Gone With the Wind: The Remarkable Rise and Tragic Fall of Lynyrd Skynyrd",
         "release_date": "2015-10-16",
         "original_language": "en",
         "original_title": "Gone With the Wind: The Remarkable Rise and Tragic Fall of Lynyrd Skynyrd",
         "genre_ids": [],
         "backdrop_path": null,
         "adult": false,
         "overview": "When Lynyrd Skynyrd emerged onto the world stage in 1973, it was the result of a collective determination; the group had struggled and fought to gain real recognition ever since their formation eight years before. And although they were initially identified, both in the music industry and in the media, as just another act in the then booming Southern Rock movement, it became quickly apparent that not only were Skynyrd a distinctly individual collective, but also they had the potential to become one of the finest rock bands in history. Led by the headstrong and domineering Ronnie Van Zant, a tough, blue collar brawler with a powerful stage presence, distinctive vocals and gritty, honest lyrics, his energy and vision propelled the group until its tragic end in 1977. This films tells the story of the rise and fall of a remarkable band.",
         "poster_path": "/qLfMivhWCpeKtwaFtG1eAi7GoFC.jpg"
        },
        {
         "popularity": 0.6,
         "id": 358232,
         "video": false,
         "vote_count": 0,
         "vote_average": 0,
         "title": "Red Green Blue Gone With the Wind",
         "release_date": "2001-09-05",
         "original_language": "en",
         "original_title": "Red Green Blue Gone With the Wind",
         "genre_ids": [],
         "backdrop_path": null,
         "adult": false,
         "overview": "Red Green Blue Gone with the Wind is a phosphorescent deconstruction of David O. Selznick's Technicolor classic Gone with the Wind (1939). Through the structural devices of condensation, the frame-by-frame separation of the red, green, and blue Tehnicolor layers, and the de-interlacing of the video field, LeVeque presents a destabilized illumination of the relentless romantic nostalgia for the antebellum past.",
         "poster_path": null
        },
        {
         "popularity": 0.6,
         "id": 340541,
         "video": false,
         "vote_count": 0,
         "vote_average": 0,
         "title": "Gone with the Wind: Restoring a Legend",
         "release_date": "2004-11-09",
         "original_language": "en",
         "original_title": "Gone with the Wind: Restoring a Legend",
         "genre_ids": [
          99
         ],
         "backdrop_path": null,
         "adult": false,
         "overview": "DVD featurette on the restoration of Gone With The Wind (1939).",
         "poster_path": "/f7CyLNwuWupUdac8vlJyXVC2jrn.jpg"
        },
        {
         "popularity": 0.6,
         "id": 340544,
         "video": false,
         "vote_count": 0,
         "vote_average": 0,
         "title": "Gone With The Wind: The Legend Lives On",
         "release_date": "2009-11-03",
         "original_language": "en",
         "original_title": "Gone With The Wind: The Legend Lives On",
         "genre_ids": [],
         "backdrop_path": null,
         "adult": false,
         "overview": "This featurette discusses why the film is still so important. Also discusses “Windies”, the GWTW fan club. New for the 70th anniversary release.",
         "poster_path": "/1XPErUj6ZayfSkj4EWJFkfcfMfP.jpg"
        },
        {
         "popularity": 0.6,
         "vote_count": 0,
         "video": false,
         "poster_path": "/pKNhAFcVELI52MXft5lyBsltcNu.jpg",
         "id": 743209,
         "adult": false,
         "backdrop_path": null,
         "original_language": "zh",
         "original_title": "随风飘散",
         "genre_ids": [
          18
         ],
         "title": "Wind",
         "vote_average": 0,
         "overview": "Tibetan teen Gera and her mom Sandan have always been discriminated by the villagers because she was born out of wedlock. Uncle Enbo is the only man who is kind to them. Growing up in a hostile environment, Gara becomes an independant woman, and starts to change how the villagers perceive her.",
         "release_date": ""
        }
       ]
      }
     },
     "metadata": {
      "application/json": {
       "expanded": false
      }
     },
     "execution_count": 13
    }
   ],
   "source": [
    "#search details of movie \"gone with the wind \"\n",
    "\n",
    "favor_query='gone with the wind'\n",
    "param_favor=f'?query={favor_query}&api_key={api_key}' \n",
    "favorite_movie=requests.get(base+url+param_favor)\n",
    "movie_json=favorite_movie.json()\n",
    "JSON(movie_json)\n"
   ]
  },
  {
   "cell_type": "code",
   "execution_count": null,
   "metadata": {},
   "outputs": [],
   "source": []
  },
  {
   "cell_type": "code",
   "execution_count": null,
   "metadata": {},
   "outputs": [],
   "source": []
  },
  {
   "source": [
    "## Task\n",
    "Search for you favorite movie and return the information about the movie:\n",
    "- name\n",
    "- release date\n",
    "- runtime\n",
    "- revenue\n",
    "- length of the overview\n",
    "- number of votes\n",
    "- voting average"
   ],
   "cell_type": "markdown",
   "metadata": {}
  },
  {
   "cell_type": "code",
   "execution_count": 7,
   "metadata": {
    "tags": []
   },
   "outputs": [
    {
     "output_type": "stream",
     "name": "stdout",
     "text": "popularity 21.874\nid 770\nvideo False\nvote_count 2646\nvote_average 8\ntitle Gone with the Wind\nrelease_date 1939-12-15\noriginal_language en\noriginal_title Gone with the Wind\ngenre_ids [18, 10752, 10749]\nbackdrop_path /ft8WRF2xqEwwGWa59naDUybKTAx.jpg\nadult False\noverview The spoiled daughter of a well-to-do plantation owner is forced to use every means at her disposal to claw her way out of poverty, following Maj. Gen. William Sherman's destructive \"March to the Sea,” during the American Civil War.\nposter_path /pDXbS9V8ZoF7oiL4LUL5U31T1B5.jpg\n"
    }
   ],
   "source": [
    "movie_info=movie_json['results']\n",
    "#print(movie_info[0])\n",
    "for key, value in movie_info[0].items():\n",
    "    print(key,value)\n",
    "  "
   ]
  },
  {
   "source": [],
   "cell_type": "code",
   "metadata": {},
   "execution_count": null,
   "outputs": []
  },
  {
   "cell_type": "markdown",
   "metadata": {},
   "source": [
    "## Task\n",
    "Search for you favorite actor/actress and return the information about him/her:\n",
    "- name\n",
    "- date of birth\n",
    "- place of birth\n",
    "- length of the biography"
   ]
  },
  {
   "cell_type": "code",
   "execution_count": 8,
   "metadata": {},
   "outputs": [],
   "source": [
    "import requests\n",
    "from IPython.display import JSON\n",
    "\n"
   ]
  },
  {
   "cell_type": "code",
   "execution_count": 9,
   "metadata": {
    "tags": []
   },
   "outputs": [
    {
     "output_type": "stream",
     "name": "stdout",
     "text": "{'popularity': 68.836, 'known_for_department': 'Acting', 'gender': 1, 'id': 122503, 'profile_path': '/cL6JccAYqiZQEAIEFObEUC9LTt7.jpg', 'adult': False, 'known_for': [{'release_date': '2020-09-10', 'id': 337401, 'vote_count': 1628, 'video': False, 'media_type': 'movie', 'vote_average': 7.6, 'title': 'Mulan', 'genre_ids': [28, 12, 18, 14, 10752], 'original_title': 'Mulan', 'original_language': 'en', 'adult': False, 'backdrop_path': '/zzWGRw277MNoCs3zhyG3YmYQsXv.jpg', 'overview': 'When the Emperor of China issues a decree that one man per family must serve in the Imperial Chinese Army to defend the country from Huns, Hua Mulan, the eldest daughter of an honored warrior, steps in to take the place of her ailing father. She is spirited, determined and quick on her feet. Disguised as a man by the name of Hua Jun, she is tested every step of the way and must harness her innermost strength and embrace her true potential.', 'poster_path': '/aKx1ARwG55zZ0GpRvU2WrGrCG9o.jpg'}, {'release_date': '2008-04-18', 'id': 1729, 'vote_count': 1047, 'video': False, 'media_type': 'movie', 'vote_average': 6.5, 'title': 'The Forbidden Kingdom', 'genre_ids': [28, 12, 14], 'original_title': 'The Forbidden Kingdom', 'original_language': 'en', 'adult': False, 'backdrop_path': '/aNKhC2nzGr3kAggKubJ56MbFOUc.jpg', 'overview': 'An American teenager who is obsessed with Hong Kong cinema and kung-fu classics makes an extraordinary discovery in a Chinatown pawnshop: the legendary stick weapon of the Chinese sage and warrior, the Monkey King. With the lost relic in hand, the teenager unexpectedly finds himself travelling back to ancient China to join a crew of warriors from martial arts lore on a dangerous quest to free the imprisoned Monkey King.', 'poster_path': '/mkrwLBAFHwLnQF8qdhCH0VOQqff.jpg'}, {'release_date': '2014-09-26', 'id': 289720, 'vote_count': 293, 'video': False, 'media_type': 'movie', 'vote_average': 4.8, 'title': 'Outcast', 'genre_ids': [28], 'original_title': 'Outcast', 'original_language': 'en', 'adult': False, 'backdrop_path': '/sETF4vyjb0FonUJVqgrkaPWqiIf.jpg', 'overview': 'A mysterious warrior teams up with the daughter and son of a deposed Chinese Emperor to defeat their cruel Uncle, who seeks their deaths.', 'poster_path': '/efsgCTlofzIuysfokEp7hwQnUho.jpg'}], 'name': 'Liu Yifei'}\n"
    }
   ],
   "source": [
    "aurl=('https://api.themoviedb.org/3/search/person?api_key=d93b150febdc89afef80d7f05fb4e79e&query=Liu Yifei')\n",
    "info=requests.get(aurl)\n",
    "id=info.json()['results']\n",
    "\n",
    "for items in id:\n",
    "    print(items)\n",
    "\n"
   ]
  },
  {
   "cell_type": "code",
   "execution_count": 10,
   "metadata": {
    "tags": []
   },
   "outputs": [
    {
     "output_type": "stream",
     "name": "stdout",
     "text": "birthday 1987-08-25\nknown_for_department Acting\ndeathday None\nid 122503\nname Liu Yifei\nalso_known_as ['劉亦菲', 'Liu Yi Fei', 'Yi-Fei Liu', 'Liu Yi-Fei', 'Crystal Liu', '刘亦菲', 'An Feng', 'Liu Ximeizi', '刘茜美子', '安风', '유역비', 'Γιφέι Λιου', 'Lưu Diệc Phi', '류이페이']\ngender 1\nbiography Liu Yifei ( born An Feng; August 25, 1987) is a popular Chinese-American actress, model and singer. She was born in China and moved to the United States when she was 11.\npopularity 68.836\nplace_of_birth Wuhan, Hubei, China\nprofile_path /cL6JccAYqiZQEAIEFObEUC9LTt7.jpg\nadult False\nimdb_id nm1703577\nhomepage None\n"
    }
   ],
   "source": [
    "import requests\n",
    "url=('https://api.themoviedb.org/3/person/122503?api_key=d93b150febdc89afef80d7f05fb4e79e')\n",
    "response=requests.get(url)\n",
    "liuyifei=response.json()\n",
    "\n",
    "for key, value in liuyifei.items():\n",
    "    print(key, value)"
   ]
  },
  {
   "cell_type": "markdown",
   "metadata": {},
   "source": [
    "## Task\n",
    "Search for you favorite tv-show and return the information about it:\n",
    "- name\n",
    "- first air date\n",
    "- number of seasons\n",
    "- number of episodes\n",
    "- genres"
   ]
  },
  {
   "cell_type": "code",
   "execution_count": 11,
   "metadata": {},
   "outputs": [
    {
     "output_type": "execute_result",
     "data": {
      "text/plain": "{'original_name': 'Friends',\n 'genre_ids': [35, 18],\n 'name': 'Friends',\n 'popularity': 153.556,\n 'origin_country': ['US'],\n 'vote_count': 3031,\n 'first_air_date': '1994-09-22',\n 'backdrop_path': '/l0qVZIpXtIo7km9u5Yqh0nKPOr5.jpg',\n 'original_language': 'en',\n 'id': 1668,\n 'vote_average': 8.2,\n 'overview': 'The misadventures of a group of friends as they navigate the pitfalls of work, life and love in Manhattan.',\n 'poster_path': '/f496cm9enuEsZkSPzCwnTESEK5s.jpg'}"
     },
     "metadata": {},
     "execution_count": 11
    }
   ],
   "source": [
    "# search TV id\n",
    "aur2=('https://api.themoviedb.org/3/search/tv?api_key=d93b150febdc89afef80d7f05fb4e79e&query=friends')\n",
    "info=requests.get(aur2)\n",
    "id=info.json()['results']\n",
    "id[0]"
   ]
  },
  {
   "cell_type": "code",
   "execution_count": 39,
   "metadata": {
    "tags": []
   },
   "outputs": [
    {
     "output_type": "stream",
     "name": "stdout",
     "text": "the first air date is : 1994-09-22\nthe total number of seasons:  10\nthe total number of episodes:  236\nthe genres are:  [{'id': 35, 'name': 'Comedy'}, {'id': 18, 'name': 'Drama'}]\n"
    }
   ],
   "source": [
    "url_tv='https://api.themoviedb.org/3/tv/1668?api_key=d93b150febdc89afef80d7f05fb4e79e'\n",
    "friends=requests.get(url_tv)\n",
    "friends_json=friends.json()\n",
    "#friends_json.keys()\n",
    "print(\"the first air date is :\",friends_json['first_air_date'])\n",
    "print(\"the total number of seasons: \",friends_json['number_of_seasons'])\n",
    "print(\"the total number of episodes: \",friends_json['number_of_episodes'])\n",
    "print(\"the genres are: \",friends_json['genres'])"
   ]
  },
  {
   "cell_type": "code",
   "execution_count": null,
   "metadata": {},
   "outputs": [],
   "source": []
  },
  {
   "cell_type": "markdown",
   "metadata": {},
   "source": [
    "## Task \n",
    "Find top 5 trending:\n",
    "- movies\n",
    "- tv-shows\n",
    "- people"
   ]
  },
  {
   "cell_type": "code",
   "execution_count": 58,
   "metadata": {},
   "outputs": [],
   "source": [
    "# get the trending URL\n",
    "url_trending_tv=('https://api.themoviedb.org/3/trending/tv/day?api_key=d93b150febdc89afef80d7f05fb4e79e')\n",
    "url_trending_movie=('https://api.themoviedb.org/3/trending/movie/day?api_key=d93b150febdc89afef80d7f05fb4e79e')\n",
    "url_trending_person=('https://api.themoviedb.org/3/trending/person/day?api_key=d93b150febdc89afef80d7f05fb4e79e')\n",
    "trending_TV=requests.get(url_trending_tv).json()\n",
    "trending_movie=requests.get(url_trending_movie).json()\n",
    "trending_person=requests.get(url_trending_person).json()"
   ]
  },
  {
   "cell_type": "code",
   "execution_count": 51,
   "metadata": {
    "tags": []
   },
   "outputs": [
    {
     "output_type": "stream",
     "name": "stdout",
     "text": "['Raised by Wolves', 'The Third Day', 'Baby', 'Criminal: UK', 'The Boys', 'Challenger: The Final Flight', 'Des', 'Dragon’s Dogma', 'We Are Who We Are', 'The 100', 'The Mandalorian', 'The Last Word', 'Archer', 'Lovecraft Country', 'Game of Thrones', 'Power Book II: Ghost', 'Ratched', 'The Walking Dead', 'Money Heist', 'The Duchess']\n"
    }
   ],
   "source": [
    "#last 5 days trending IV-shows\n",
    "TVs=trending_TV['results']\n",
    "TV_list=[]\n",
    "\n",
    "\n",
    "for tv in TVs: #TVs is a list\n",
    "\n",
    "    for key,value in tv.items():\n",
    "        if key=='name':\n",
    "            TV_list.append(value)\n",
    "print(TV_list)"
   ]
  },
  {
   "cell_type": "code",
   "execution_count": 56,
   "metadata": {
    "tags": []
   },
   "outputs": [
    {
     "output_type": "stream",
     "name": "stdout",
     "text": "['The Devil All the Time', 'The Paramedic', 'Mulan', 'The Babysitter: Killer Queen', 'Tenet', 'Cats & Dogs 3: Paws Unite', 'Pets United', 'The Social Dilemma', 'The War with Grandpa', 'Cuties', 'Ava', 'After We Collided', \"I'm Thinking of Ending Things\", 'Peninsula', 'Avengers: Endgame', 'Dad Wanted', 'The Lost Husband', 'Intersect', \"Harry Potter and the Philosopher's Stone\", '1917']\n"
    }
   ],
   "source": [
    "# last 5 day trending movies\n",
    "trending_movie\n",
    "Movies=trending_movie['results']\n",
    "movie_list=[]\n",
    "\n",
    "\n",
    "for movie in Movies: \n",
    "     for key,value in movie.items():\n",
    "        if key=='title':\n",
    "            movie_list.append(value)\n",
    "print(movie_list)\n"
   ]
  },
  {
   "cell_type": "code",
   "execution_count": 63,
   "metadata": {
    "tags": []
   },
   "outputs": [
    {
     "output_type": "stream",
     "name": "stdout",
     "text": "['Tom Hanks', 'Tom Holland', 'David Tennant', 'Tatiana Maslany', 'Kiril Totev', 'Bong Joon-ho', 'Christopher Nolan', 'Tinto Brass', 'Denzel Washington', 'Jackie Chan', 'Yoo Jung-II', 'Liu Yifei', 'David Kross', 'Jim Carrey', 'Tom Hardy', 'Ken Burns', 'Marcus H. Rosenmüller', 'Bruce Willis', 'Kenneth Branagh', 'Vin Diesel']\n"
    }
   ],
   "source": [
    "#last 5 day trending persons\n",
    "trending_person\n",
    "persons=trending_person['results']\n",
    "person_list=[]\n",
    "\n",
    "\n",
    "for person in persons: \n",
    "    for key,value in person.items():\n",
    "         if key=='name':\n",
    "             person_list.append(value)\n",
    "print(person_list)\n"
   ]
  },
  {
   "cell_type": "code",
   "execution_count": null,
   "metadata": {},
   "outputs": [],
   "source": []
  }
 ],
 "metadata": {
  "kernelspec": {
   "display_name": "Python 3",
   "language": "python",
   "name": "python3"
  },
  "language_info": {
   "codemirror_mode": {
    "name": "ipython",
    "version": 3
   },
   "file_extension": ".py",
   "mimetype": "text/x-python",
   "name": "python",
   "nbconvert_exporter": "python",
   "pygments_lexer": "ipython3",
   "version": "3.6.5-final"
  }
 },
 "nbformat": 4,
 "nbformat_minor": 4
}