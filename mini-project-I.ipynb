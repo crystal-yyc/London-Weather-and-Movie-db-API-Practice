{
 "cells": [
  {
   "cell_type": "code",
   "execution_count": 1,
   "metadata": {},
   "outputs": [],
   "source": [
    "# import packages \n",
    "import requests\n",
    "import json\n",
    "from IPython.display import JSON\n"
   ]
  },
  {
   "cell_type": "code",
   "execution_count": 4,
   "metadata": {},
   "outputs": [],
   "source": [
    "# URL\n",
    "url = \"https://api.tfl.gov.uk/AirQuality\""
   ]
  },
  {
   "cell_type": "code",
   "execution_count": 5,
   "metadata": {},
   "outputs": [
    {
     "output_type": "execute_result",
     "data": {
      "text/plain": [
       "<IPython.core.display.JSON object>"
      ],
      "application/json": {
       "$id": "1",
       "$type": "Tfl.Api.Presentation.Entities.LondonAirForecast, Tfl.Api.Presentation.Entities",
       "updatePeriod": "hourly",
       "updateFrequency": "1",
       "forecastURL": "http://londonair.org.uk/forecast",
       "disclaimerText": "This forecast is intended to provide information on expected pollution levels in areas of significant public exposure. It may not apply in very specific locations close to unusually strong or short-lived local sources of pollution.",
       "currentForecast": [
        {
         "$id": "2",
         "$type": "Tfl.Api.Presentation.Entities.CurrentForecast, Tfl.Api.Presentation.Entities",
         "forecastType": "Current",
         "forecastID": "29620",
         "forecastBand": "Low",
         "forecastSummary": "Low air pollution forecast valid from Sunday 22 November to end of Sunday 22 November GMT",
         "nO2Band": "Low",
         "o3Band": "Low",
         "pM10Band": "Low",
         "pM25Band": "Low",
         "sO2Band": "Low",
         "forecastText": "Sunday is forecast to be similar to Saturday, overcast but dry with a mild westerly breeze.&lt;br/&gt;&lt;br/&gt;The continuing Atlantic airflow should ensure good dispersion of local emissions.&lt;br/&gt;&lt;br/&gt;Air pollution is expected to remain &#39;Low&#39; throughout the forecast period for the following pollutants:   &lt;br/&gt;&lt;br/&gt;Nitrogen Dioxide&lt;br/&gt;Ozone&lt;br/&gt;PM10 Particulates&lt;br/&gt;PM2.5 Particulates&lt;br/&gt;Sulphur Dioxide&lt;br/&gt;"
        },
        {
         "$id": "3",
         "$type": "Tfl.Api.Presentation.Entities.CurrentForecast, Tfl.Api.Presentation.Entities",
         "forecastType": "Future",
         "forecastID": "29621",
         "forecastBand": "Low",
         "forecastSummary": "Low air pollution forecast valid from Monday 23 November to end of Monday 23 November GMT",
         "nO2Band": "Low",
         "o3Band": "Low",
         "pM10Band": "Low",
         "pM25Band": "Low",
         "sO2Band": "Low",
         "forecastText": "Monday will be overcast with a small chance of rain and temperatures around 10 degrees.&lt;br/&gt;&lt;br/&gt;The continuing Atlantic airflow should ensure good dispersion of local emissions.&lt;br/&gt;&lt;br/&gt;Air pollution is expected to remain &#39;Low&#39; throughout the forecast period for the following pollutants:   &lt;br/&gt;&lt;br/&gt;Nitrogen Dioxide&lt;br/&gt;Ozone&lt;br/&gt;PM10 Particulates&lt;br/&gt;PM2.5 Particulates&lt;br/&gt;Sulphur Dioxide"
        }
       ]
      }
     },
     "metadata": {
      "application/json": {
       "expanded": false,
       "root": "root"
      }
     },
     "execution_count": 5
    }
   ],
   "source": [
    "# send the request to the API\n",
    "res_air = requests.get(url)\n",
    "JSON(res_air.json())"
   ]
  },
  {
   "cell_type": "code",
   "execution_count": 6,
   "metadata": {},
   "outputs": [
    {
     "output_type": "execute_result",
     "data": {
      "text/plain": [
       "200"
      ]
     },
     "metadata": {},
     "execution_count": 6
    }
   ],
   "source": [
    "# check if the request was successful\n",
    "res_air.status_code"
   ]
  },
  {
   "cell_type": "code",
   "execution_count": 8,
   "metadata": {
    "tags": []
   },
   "outputs": [
    {
     "output_type": "stream",
     "name": "stdout",
     "text": "$id\n$type\nupdatePeriod\nupdateFrequency\nforecastURL\ndisclaimerText\ncurrentForecast\n"
    }
   ],
   "source": [
    "# export the information that was returned using method .json()\n",
    "info=res_air.json()\n",
    "info.keys()\n",
    "for key, value in info.items():\n",
    "\n",
    "    print(key)"
   ]
  },
  {
   "source": [
    "## Task\n",
    "Parse the dictionary and print the AirQuality predictions for tomorrow"
   ],
   "cell_type": "markdown",
   "metadata": {}
  },
  {
   "cell_type": "code",
   "execution_count": 9,
   "metadata": {
    "tags": []
   },
   "outputs": [
    {
     "output_type": "stream",
     "name": "stdout",
     "text": "tommorrow weather forcast:  A continuing feed of air from continental Europe into Greater London is forecast by back-trajectory models for Saturday. As on Friday though, a marked import of long-range particulates is not currently expected as the predicted speed and altitude of the incoming air will limit the potential for it to accumulate pollutants.&lt;br/&gt;Again, a good easterly breeze should give good dispersion of local emissions.&lt;br/&gt;Similar forecast is for Sunday. &lt;br/&gt;Dry and sunny on Monday with lighter winds from the east. Pollution levels for Monday will be reviewed over the weekend  &lt;br/&gt;&lt;br/&gt;Air pollution is expected to remain &#39;Low&#39; throughout the forecast period for the following pollutants:&lt;br/&gt;&lt;br/&gt;Nitrogen Dioxide&lt;br/&gt;Sulphur Dioxide&lt;br/&gt;Ozone&lt;br/&gt;PM2.5 Particulates&lt;br/&gt;PM10 Particulates&lt;br/&gt;&lt;br/&gt;\n"
    }
   ],
   "source": [
    "# weather forecast tommorrow text \n",
    "weather_tommorrow=requests.get('https://api.tfl.gov.uk/AirQuality?dates=2010-09-18')\n",
    "info1=weather_tommorrow.json()\n",
    "print(\"tommorrow weather forcast: \",info1['currentForecast'][1]['forecastText'])"
   ]
  },
  {
   "cell_type": "code",
   "execution_count": 10,
   "metadata": {
    "tags": []
   },
   "outputs": [
    {
     "output_type": "stream",
     "name": "stdout",
     "text": "Number of different modes of transport is: 18\n"
    }
   ],
   "source": [
    "#find the total numbers of tranport modes\"\n",
    "from IPython.display import JSON\n",
    "url1=('https://api.tfl.gov.uk/Line/Meta/Modes')\n",
    "transport=requests.get(url1)\n",
    "transport_json=transport.json()\n",
    "transport_json\n",
    "transport_mode=[]\n",
    "\n",
    "for item in transport_json:\n",
    "     for key, value in item.items():\n",
    "          if key=='modeName':\n",
    "              transport_mode.append(value)\n",
    "\n",
    "uni_transport=set(transport_mode)\n",
    "print(f'Number of different modes of transport is: {len(uni_transport)}')\n",
    "        \n",
    "    \n"
   ]
  },
  {
   "source": [
    "## How many tube and bus lines are in London? Print names of all tube lines.\n"
   ],
   "cell_type": "markdown",
   "metadata": {}
  },
  {
   "cell_type": "code",
   "execution_count": 37,
   "metadata": {
    "tags": []
   },
   "outputs": [
    {
     "output_type": "stream",
     "name": "stdout",
     "text": "The london tube names are ['Bakerloo', 'Central', 'Circle', 'District', 'Hammersmith & City', 'Jubilee', 'Metropolitan', 'Northern', 'Piccadilly', 'Victoria', 'Waterloo & City']\n"
    }
   ],
   "source": [
    "#number of tubes\n",
    "tube_url=('https://api.tfl.gov.uk/Line/Mode/tube')\n",
    "tube_response=requests.get(tube_url)\n",
    "tube_json=tube_response.json()\n",
    "tube_name=[]\n",
    "for item in tube_json:\n",
    "    tube_name.append(item['name'])\n",
    "print(f'The london tube names are {tube_name}')\n"
   ]
  },
  {
   "cell_type": "code",
   "execution_count": 12,
   "metadata": {
    "tags": []
   },
   "outputs": [
    {
     "output_type": "stream",
     "name": "stdout",
     "text": "The total london bus routs are 681\n"
    }
   ],
   "source": [
    "# Total Number of Bus Names \n",
    "bus_url=('https://api.tfl.gov.uk/Line/Mode/bus')\n",
    "bus_response=requests.get(bus_url)\n",
    "bus_json=bus_response.json()\n",
    "bus_name=[]\n",
    "for item in bus_json:\n",
    "    bus_name.append(item['name'])\n",
    "print(f'The total london bus routs are {len(bus_name)}')"
   ]
  },
  {
   "cell_type": "markdown",
   "metadata": {},
   "source": [
    "## Task\n",
    "How many BikePoints in London are operated by Transfor for London? How many docks are in **all** BikePoints? There is the information for empty and full docks for each BikePoint."
   ]
  },
  {
   "cell_type": "code",
   "execution_count": 25,
   "metadata": {
    "tags": []
   },
   "outputs": [
    {
     "output_type": "stream",
     "name": "stdout",
     "text": "784\n"
    }
   ],
   "source": [
    "#numbers of bikepoints locations =total ID\n",
    "\n",
    "url2=('https://api.tfl.gov.uk/BikePoint')\n",
    "bikepoints=requests.get(url2)\n",
    "#bikepoints.headers\n",
    "#bikepoints.content\n",
    "bikepointslist=[]\n",
    "bikepoints_json=bikepoints.json()\n",
    "for item in bikepoints_json:\n",
    "    bikepointsID=item['id']\n",
    "    bikepointslist.append(bikepointsID)\n",
    "print(len(bikepointslist))"
   ]
  },
  {
   "cell_type": "code",
   "execution_count": 40,
   "metadata": {},
   "outputs": [],
   "source": [
    "#bikepoints_json[1]['additionalProperties']"
   ]
  },
  {
   "cell_type": "code",
   "execution_count": 32,
   "metadata": {
    "tags": []
   },
   "outputs": [
    {
     "output_type": "stream",
     "name": "stdout",
     "text": "20853\n"
    }
   ],
   "source": [
    "# number of docks of bikepoints (#val['key']=='NbEmptyDocks'(empty docks will not be included)\n",
    "docks=[]\n",
    "sum_docks=0\n",
    "\n",
    "for item in bikepoints_json:\n",
    "    for val in item['additionalProperties']:\n",
    "        if val['key']=='NbDocks': \n",
    "            sum_docks+=int(val['value'])                                          \n",
    "print(sum_docks)"
   ]
  },
  {
   "cell_type": "markdown",
   "metadata": {},
   "source": [
    "## Task\n",
    "How many station has `victoria` line?"
   ]
  },
  {
   "cell_type": "code",
   "execution_count": 19,
   "metadata": {},
   "outputs": [],
   "source": [
    "url4=('https://api.tfl.gov.uk/Line/victoria/StopPoints')"
   ]
  },
  {
   "cell_type": "code",
   "execution_count": 25,
   "metadata": {
    "tags": []
   },
   "outputs": [
    {
     "output_type": "stream",
     "name": "stdout",
     "text": "16\n"
    }
   ],
   "source": [
    "stops=requests.get(url4)\n",
    "stops_json=stops.json()\n",
    "stops_list=[]\n",
    "for item in stops_json:\n",
    "    for key, value in item.items():\n",
    "        if key=='stationNaptan':\n",
    "            stops_list.append(value)\n",
    "print(len(stops_list))\n",
    "\n"
   ]
  },
  {
   "cell_type": "markdown",
   "metadata": {},
   "source": [
    "## Task\n",
    "Plan the journey from Heathrow Airport to Tower Bridge using Public Transport, Taxi or Bike? Which way is the fastest? Example output:\n",
    "```\n",
    "Planned duration:\n",
    "Public Transport: x minutes\n",
    "Bike: y minutes\n",
    "```\n",
    "\n",
    "We need to search the documentation for correct requests."
   ]
  },
  {
   "cell_type": "code",
   "execution_count": 17,
   "metadata": {},
   "outputs": [],
   "source": [
    "url5=('https://api.tfl.gov.uk/journey/journeyresults/51.5039580037,-0.48810008749/to/51.508139082110006, -0.54784242932')"
   ]
  },
  {
   "cell_type": "code",
   "execution_count": 18,
   "metadata": {},
   "outputs": [
    {
     "output_type": "execute_result",
     "data": {
      "text/plain": "dict_keys(['$type', 'journeys', 'lines', 'stopMessages', 'recommendedMaxAgeMinutes', 'searchCriteria', 'journeyVector'])"
     },
     "metadata": {},
     "execution_count": 18
    }
   ],
   "source": [
    "# search bus time\n",
    "bus_response=requests.get(url5,params={'mode':'bus'})\n",
    "bus_json=bus_response.json()\n",
    "bus_json.keys()\n"
   ]
  },
  {
   "cell_type": "code",
   "execution_count": 19,
   "metadata": {
    "tags": []
   },
   "outputs": [
    {
     "output_type": "stream",
     "name": "stdout",
     "text": "'the bus duration is 85, and the recommended time is 1:26:00'\n"
    }
   ],
   "source": [
    "# extract bus time\n",
    "import datetime\n",
    "bus_info=bus_json['journeys'][0]\n",
    "#print(bus_info)\n",
    "duration=bus_info['duration']\n",
    "arrive_time=datetime.datetime.strptime((bus_info['arrivalDateTime']),'%Y-%m-%dT%H:%M:%S')\n",
    "start_time=datetime.datetime.strptime((bus_info['startDateTime']),'%Y-%m-%dT%H:%M:%S')\n",
    "minutes=arrive_time-start_time\n",
    "#print(minutes)\n",
    "\n",
    "\n",
    "from pprint import pprint  \n",
    "pprint(f\"the bus duration is {duration}, and the recommended time is {minutes}\")\n"
   ]
  },
  {
   "cell_type": "code",
   "execution_count": 23,
   "metadata": {
    "tags": []
   },
   "outputs": [
    {
     "output_type": "stream",
     "name": "stdout",
     "text": "'the bike duration is 18, and the recommended time is 0:18:00'\n"
    }
   ],
   "source": [
    "# extract bike time\n",
    "bike=requests.get(url5,params={'mode':'cycle'})\n",
    "bike_json=bike.json()\n",
    "bike_info=bike_json['journeys'][0]\n",
    "\n",
    "#pprint(bike_json)\n",
    "\n",
    "duration=bike_info['duration']\n",
    "arrive_time=datetime.datetime.strptime((bike_info['arrivalDateTime']),'%Y-%m-%dT%H:%M:%S')\n",
    "start_time=datetime.datetime.strptime((bike_info['startDateTime']),'%Y-%m-%dT%H:%M:%S')\n",
    "minutes=arrive_time-start_time\n",
    "pprint(f\"the bike duration is {duration}, and the recommended time is {minutes}\")"
   ]
  },
  {
   "cell_type": "code",
   "execution_count": 96,
   "metadata": {
    "tags": []
   },
   "outputs": [],
   "source": [
    "# extract taxi time\n",
    "taxi=requests.get(url5,params={'mode':'taxi'})\n",
    "taxi_json=taxi.json()\n"
   ]
  },
  {
   "cell_type": "code",
   "execution_count": 99,
   "metadata": {
    "tags": []
   },
   "outputs": [
    {
     "output_type": "stream",
     "name": "stdout",
     "text": "the taxi duration is 75, and the required time is 1:15:00\n"
    }
   ],
   "source": [
    "taxi_info=taxi_json['journeys'][0]\n",
    "#print(taxi_info)\n",
    "duration1=taxi_info['duration']\n",
    "arrive_time=datetime.datetime.strptime((taxi_info['arrivalDateTime']),'%Y-%m-%dT%H:%M:%S')\n",
    "start_time=datetime.datetime.strptime((taxi_info['startDateTime']),'%Y-%m-%dT%H:%M:%S')\n",
    "taxi_time=arrive_time-start_time\n",
    "  \n",
    "print(f\"the taxi duration is {duration1}, and the required time is {taxi_time}\")"
   ]
  },
  {
   "cell_type": "code",
   "execution_count": null,
   "metadata": {},
   "outputs": [],
   "source": []
  }
 ],
 "metadata": {
  "kernelspec": {
   "display_name": "Python 3",
   "language": "python",
   "name": "python3"
  },
  "language_info": {
   "codemirror_mode": {
    "name": "ipython",
    "version": 3
   },
   "file_extension": ".py",
   "mimetype": "text/x-python",
   "name": "python",
   "nbconvert_exporter": "python",
   "pygments_lexer": "ipython3",
   "version": "3.8.3-final"
  }
 },
 "nbformat": 4,
 "nbformat_minor": 4
}